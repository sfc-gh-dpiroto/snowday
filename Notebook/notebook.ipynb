{
 "metadata": {
  "language_info": {
   "name": "python"
  },
  "lastEditStatus": {
   "notebookId": "p2abmmzfviztrspwroyu",
   "authorId": "4831907440614",
   "authorName": "DPIROTO",
   "authorEmail": "dhiego.piroto@snowflake.com",
   "sessionId": "f716e1b2-2c17-4772-9c62-4f1659424de7",
   "lastEditTime": 1751399288464
  }
 },
 "nbformat_minor": 5,
 "nbformat": 4,
 "cells": [
  {
   "cell_type": "code",
   "execution_count": null,
   "id": "d9898a02-8dcc-4c84-8587-490e1738a340",
   "metadata": {
    "vscode": {
     "languageId": "plaintext"
    },
    "name": "cell1",
    "language": "python"
   },
   "outputs": [],
   "source": "from snowflake.snowpark.session import Session\nfrom snowflake.snowpark.context import get_active_session\n\n\nSession = get_active_session()"
  },
  {
   "cell_type": "code",
   "id": "950c3256-ccd8-412f-91c3-e0891aca828d",
   "metadata": {
    "language": "python",
    "name": "cell2"
   },
   "outputs": [],
   "source": "Session.table('tb_101.raw_customer.customer_loyalty')",
   "execution_count": null
  }
 ]
}